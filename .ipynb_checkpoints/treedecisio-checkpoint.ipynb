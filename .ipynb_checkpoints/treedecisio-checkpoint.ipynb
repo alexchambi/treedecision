{
 "cells": [
  {
   "cell_type": "code",
   "execution_count": 1,
   "metadata": {},
   "outputs": [],
   "source": [
    "import numpy as np\n",
    "import pandas as pd\n",
    "import math"
   ]
  },
  {
   "cell_type": "code",
   "execution_count": 2,
   "metadata": {},
   "outputs": [
    {
     "data": {
      "text/plain": [
       "pandas.core.frame.DataFrame"
      ]
     },
     "execution_count": 2,
     "metadata": {},
     "output_type": "execute_result"
    }
   ],
   "source": [
    "data = pd.read_csv('weather.csv', encoding=\"utf-8\")\n",
    "objetivo = \"play\"\n",
    "type (data)"
   ]
  },
  {
   "cell_type": "code",
   "execution_count": 3,
   "metadata": {},
   "outputs": [
    {
     "data": {
      "text/html": [
       "<div>\n",
       "<style scoped>\n",
       "    .dataframe tbody tr th:only-of-type {\n",
       "        vertical-align: middle;\n",
       "    }\n",
       "\n",
       "    .dataframe tbody tr th {\n",
       "        vertical-align: top;\n",
       "    }\n",
       "\n",
       "    .dataframe thead th {\n",
       "        text-align: right;\n",
       "    }\n",
       "</style>\n",
       "<table border=\"1\" class=\"dataframe\">\n",
       "  <thead>\n",
       "    <tr style=\"text-align: right;\">\n",
       "      <th></th>\n",
       "      <th>outlook</th>\n",
       "      <th>temperature</th>\n",
       "      <th>humidity</th>\n",
       "      <th>windy</th>\n",
       "      <th>play</th>\n",
       "    </tr>\n",
       "  </thead>\n",
       "  <tbody>\n",
       "    <tr>\n",
       "      <td>0</td>\n",
       "      <td>overcast</td>\n",
       "      <td>hot</td>\n",
       "      <td>high</td>\n",
       "      <td>False</td>\n",
       "      <td>yes</td>\n",
       "    </tr>\n",
       "    <tr>\n",
       "      <td>1</td>\n",
       "      <td>overcast</td>\n",
       "      <td>cool</td>\n",
       "      <td>normal</td>\n",
       "      <td>True</td>\n",
       "      <td>yes</td>\n",
       "    </tr>\n",
       "    <tr>\n",
       "      <td>2</td>\n",
       "      <td>overcast</td>\n",
       "      <td>mild</td>\n",
       "      <td>high</td>\n",
       "      <td>True</td>\n",
       "      <td>yes</td>\n",
       "    </tr>\n",
       "    <tr>\n",
       "      <td>3</td>\n",
       "      <td>overcast</td>\n",
       "      <td>hot</td>\n",
       "      <td>normal</td>\n",
       "      <td>False</td>\n",
       "      <td>yes</td>\n",
       "    </tr>\n",
       "    <tr>\n",
       "      <td>4</td>\n",
       "      <td>rainy</td>\n",
       "      <td>mild</td>\n",
       "      <td>high</td>\n",
       "      <td>False</td>\n",
       "      <td>yes</td>\n",
       "    </tr>\n",
       "    <tr>\n",
       "      <td>5</td>\n",
       "      <td>rainy</td>\n",
       "      <td>cool</td>\n",
       "      <td>normal</td>\n",
       "      <td>False</td>\n",
       "      <td>yes</td>\n",
       "    </tr>\n",
       "    <tr>\n",
       "      <td>6</td>\n",
       "      <td>rainy</td>\n",
       "      <td>cool</td>\n",
       "      <td>normal</td>\n",
       "      <td>True</td>\n",
       "      <td>no</td>\n",
       "    </tr>\n",
       "    <tr>\n",
       "      <td>7</td>\n",
       "      <td>rainy</td>\n",
       "      <td>mild</td>\n",
       "      <td>normal</td>\n",
       "      <td>False</td>\n",
       "      <td>yes</td>\n",
       "    </tr>\n",
       "    <tr>\n",
       "      <td>8</td>\n",
       "      <td>rainy</td>\n",
       "      <td>mild</td>\n",
       "      <td>high</td>\n",
       "      <td>True</td>\n",
       "      <td>no</td>\n",
       "    </tr>\n",
       "    <tr>\n",
       "      <td>9</td>\n",
       "      <td>sunny</td>\n",
       "      <td>hot</td>\n",
       "      <td>high</td>\n",
       "      <td>False</td>\n",
       "      <td>no</td>\n",
       "    </tr>\n",
       "    <tr>\n",
       "      <td>10</td>\n",
       "      <td>sunny</td>\n",
       "      <td>hot</td>\n",
       "      <td>high</td>\n",
       "      <td>True</td>\n",
       "      <td>no</td>\n",
       "    </tr>\n",
       "    <tr>\n",
       "      <td>11</td>\n",
       "      <td>sunny</td>\n",
       "      <td>mild</td>\n",
       "      <td>high</td>\n",
       "      <td>False</td>\n",
       "      <td>no</td>\n",
       "    </tr>\n",
       "    <tr>\n",
       "      <td>12</td>\n",
       "      <td>sunny</td>\n",
       "      <td>cool</td>\n",
       "      <td>normal</td>\n",
       "      <td>False</td>\n",
       "      <td>yes</td>\n",
       "    </tr>\n",
       "    <tr>\n",
       "      <td>13</td>\n",
       "      <td>sunny</td>\n",
       "      <td>mild</td>\n",
       "      <td>normal</td>\n",
       "      <td>True</td>\n",
       "      <td>yes</td>\n",
       "    </tr>\n",
       "  </tbody>\n",
       "</table>\n",
       "</div>"
      ],
      "text/plain": [
       "     outlook temperature humidity  windy play\n",
       "0   overcast         hot     high  False  yes\n",
       "1   overcast        cool   normal   True  yes\n",
       "2   overcast        mild     high   True  yes\n",
       "3   overcast         hot   normal  False  yes\n",
       "4      rainy        mild     high  False  yes\n",
       "5      rainy        cool   normal  False  yes\n",
       "6      rainy        cool   normal   True   no\n",
       "7      rainy        mild   normal  False  yes\n",
       "8      rainy        mild     high   True   no\n",
       "9      sunny         hot     high  False   no\n",
       "10     sunny         hot     high   True   no\n",
       "11     sunny        mild     high  False   no\n",
       "12     sunny        cool   normal  False  yes\n",
       "13     sunny        mild   normal   True  yes"
      ]
     },
     "execution_count": 3,
     "metadata": {},
     "output_type": "execute_result"
    }
   ],
   "source": [
    "data.head(15)"
   ]
  },
  {
   "cell_type": "code",
   "execution_count": 4,
   "metadata": {},
   "outputs": [
    {
     "name": "stdout",
     "output_type": "stream",
     "text": [
      "['outlook', 'temperature', 'humidity', 'windy', 'play']\n"
     ]
    }
   ],
   "source": [
    "columnas = []\n",
    "for i in data:\n",
    "    columnas.append(i)\n",
    "columnas\n",
    "print(columnas)"
   ]
  },
  {
   "cell_type": "code",
   "execution_count": 5,
   "metadata": {},
   "outputs": [],
   "source": [
    "# contar datos de una columna\n",
    "def conteo(columna: str ,valor : str, _print = False):\n",
    "    cont_objetivo = {}\n",
    "    for ctn in data[objetivo]:\n",
    "        if ctn not in cont_objetivo:\n",
    "            cont_objetivo[ctn]=0\n",
    "\n",
    "#     print (cont_objetivo)\n",
    "#     {'no': 0, 'yes': 0}\n",
    "    \n",
    "    for i in range (len(data[columna])):\n",
    "        if data[columna][i] == valor:\n",
    "            cont_objetivo[ data[objetivo][i] ] += 1\n",
    "            \n",
    "    if _print:\n",
    "        print (cont_objetivo)\n",
    "    \n",
    "    return cont_objetivo"
   ]
  },
  {
   "cell_type": "code",
   "execution_count": 6,
   "metadata": {},
   "outputs": [
    {
     "name": "stdout",
     "output_type": "stream",
     "text": [
      "<class 'dict'>\n",
      "['a', 'a', 'a', 'a', 'a', 'b', 'b']\n"
     ]
    },
    {
     "data": {
      "text/plain": [
       "['a', 'a', 'a', 'a', 'a', 'b', 'b']"
      ]
     },
     "execution_count": 6,
     "metadata": {},
     "output_type": "execute_result"
    }
   ],
   "source": [
    "# temp recibe diccionario \n",
    "\n",
    "def create_list(temp: dict, _print=False):\n",
    "    a = []\n",
    "    for tmp in temp:\n",
    "        for llenar in range ( temp[tmp] ):\n",
    "            a.append(tmp)\n",
    "    if _print:\n",
    "        print(a)\n",
    "    return a\n",
    "\n",
    "n = {'a': 5, 'b': 2}    \n",
    "print(type(n))\n",
    "create_list(n, True)"
   ]
  },
  {
   "cell_type": "code",
   "execution_count": 7,
   "metadata": {},
   "outputs": [
    {
     "data": {
      "text/plain": [
       "({'yes': 9, 'no': 5}, 0.9402859586706309, 14)"
      ]
     },
     "execution_count": 7,
     "metadata": {},
     "output_type": "execute_result"
    }
   ],
   "source": [
    "# calcula la entropia en base a una columna \n",
    "def entropia (datos):\n",
    "    valores = {}\n",
    "    total = len(datos)\n",
    "    for i in datos:\n",
    "        if i not in valores:\n",
    "            valores[i] = 1\n",
    "        \n",
    "        elif i in valores:\n",
    "            valores[i] += 1\n",
    "    # para ver valores\n",
    "#     print(valores, total)\n",
    "    \n",
    "    resp=0\n",
    "    for j in valores:\n",
    "        resp = resp + ( (valores[j]/total)*math.log2(valores[j]/total) )\n",
    "    resp = resp * -1\n",
    "    \n",
    "\n",
    "    return valores, resp, total\n",
    "      \n",
    "\n",
    "entropia( list(data['play'])) "
   ]
  },
  {
   "cell_type": "code",
   "execution_count": 8,
   "metadata": {
    "scrolled": false
   },
   "outputs": [
    {
     "data": {
      "text/plain": [
       "{'outlook': [1.5774062828523454, 14, {'overcast': 4, 'rainy': 5, 'sunny': 5}],\n",
       " 'temperature': [1.5566567074628228, 14, {'hot': 4, 'cool': 4, 'mild': 6}],\n",
       " 'humidity': [1.0, 14, {'high': 7, 'normal': 7}],\n",
       " 'windy': [0.9852281360342515, 14, {False: 8, True: 6}],\n",
       " 'play': [0.9402859586706309, 14, {'yes': 9, 'no': 5}]}"
      ]
     },
     "execution_count": 8,
     "metadata": {},
     "output_type": "execute_result"
    }
   ],
   "source": [
    "# tiene un diccionario con los siguientes conjuntos de datos:\n",
    "# etiqueta de columna con una lista de -> valor de entropia, total de datos, diccionario de atributos \n",
    "entropias = {}\n",
    "\n",
    "for columna in columnas:\n",
    "    entropy_colum = []\n",
    "    diccionario,valor, total = entropia( data[columna] )\n",
    "    \n",
    "    entropy_colum.append(valor)\n",
    "    entropy_colum.append(total)\n",
    "    entropy_colum.append(diccionario)\n",
    "    \n",
    "    entropias[columna]= entropy_colum\n",
    "\n",
    "entropias"
   ]
  },
  {
   "cell_type": "code",
   "execution_count": 9,
   "metadata": {},
   "outputs": [
    {
     "name": "stdout",
     "output_type": "stream",
     "text": [
      "entropia de objetivo 0.9402859586706309\n",
      "\n",
      "------------------quitamos el pbjetivo para los demas procesamientos\n",
      "['outlook', 'temperature', 'humidity', 'windy', 'play']\n",
      "['outlook', 'temperature', 'humidity', 'windy']\n"
     ]
    }
   ],
   "source": [
    "entropia_base = entropias[objetivo][0]\n",
    "print (\"entropia de objetivo\",entropia_base)\n",
    "\n",
    "print (\"\\n------------------quitamos el pbjetivo para los demas procesamientos\")\n",
    "print (columnas)\n",
    "columnas_main = columnas[:-1]\n",
    "print(columnas_main)"
   ]
  },
  {
   "cell_type": "code",
   "execution_count": 10,
   "metadata": {},
   "outputs": [
    {
     "name": "stdout",
     "output_type": "stream",
     "text": [
      "{'overcast': -0.0, 'rainy': 0.9709505944546686, 'sunny': 0.9709505944546686} %%%%%\n",
      "{'overcast': 4, 'rainy': 5, 'sunny': 5} outlook\n",
      "14\n",
      "---\n",
      "{'hot': 1.0, 'cool': 0.8112781244591328, 'mild': 0.9182958340544896} %%%%%\n",
      "{'hot': 4, 'cool': 4, 'mild': 6} temperature\n",
      "14\n",
      "---\n",
      "{'high': 0.9852281360342515, 'normal': 0.5916727785823275} %%%%%\n",
      "{'high': 7, 'normal': 7} humidity\n",
      "14\n",
      "---\n",
      "{False: 0.8112781244591328, True: 1.0} %%%%%\n",
      "{False: 8, True: 6} windy\n",
      "14\n",
      "---\n",
      "ganancias de los hijos\n"
     ]
    },
    {
     "data": {
      "text/plain": [
       "{'outlook': 0.6935361388961918,\n",
       " 'temperature': 0.9110633930116763,\n",
       " 'humidity': 0.7884504573082896,\n",
       " 'windy': 0.8921589282623617}"
      ]
     },
     "execution_count": 10,
     "metadata": {},
     "output_type": "execute_result"
    }
   ],
   "source": [
    "####\n",
    "#### CALCULANDO LAS GANANCIAS DE TODOS LOS HIJOS.. EXCEPTO DE LA CLASE OBJETIVO .. PARA SABER EL NODO PADRE\n",
    "####\n",
    "ganancias = {}\n",
    "for colums in columnas_main:\n",
    "    \n",
    "    for valores in entropias[colums]: # colums = nombre de la columna\n",
    "        \n",
    "        if type(valores)==dict:  # REALIZA UN FILTRO PARA QUE SOLO ENTRE LA ENTROPIA\n",
    "            \n",
    "            entropia_v = {}\n",
    "            for _v in valores:\n",
    "                dicc = conteo(colums,_v)  # se obtiene el conteo de cuantos objetivos hay .. ejmp: {'no':4,'yes':10}\n",
    "#                 print (dicc)\n",
    "                dicc_list = create_list(dicc)\n",
    "                ll,en,kk = entropia( dicc_list )\n",
    "        \n",
    "                entropia_v[_v]=en\n",
    "            print (entropia_v,\"%%%%%\")\n",
    "            print(valores,colums)\n",
    "            print (total)\n",
    "            \n",
    "            ## calcular las ganancias por columnas\n",
    "            gana_hijo = 0\n",
    "            for gan in valores:\n",
    "                gana_hijo = gana_hijo + ( (valores[gan]/total)*entropia_v[gan] )\n",
    "            # agregando las ganancias finales de los hijos\n",
    "            ganancias[colums] = gana_hijo\n",
    "        total=valores ## auxiliar temporal para guardar el total .. \n",
    "    print (\"---\")\n",
    "\n",
    "print(\"ganancias de los hijos\")\n",
    "ganancias"
   ]
  },
  {
   "cell_type": "code",
   "execution_count": null,
   "metadata": {},
   "outputs": [],
   "source": [
    "ganancias\n",
    "entropia_objetivo,aaa,ccc = entropias[objetivo]\n",
    "entropia_objetivo\n",
    "\n",
    "#### ganancias totales\n",
    "ganancias_totales = {}\n",
    "\n",
    "for nn in ganancias:\n",
    "    ganancias_totales[nn] = entropia_objetivo - ganancias[nn]\n",
    "print(ganancias_totales)"
   ]
  },
  {
   "cell_type": "code",
   "execution_count": null,
   "metadata": {},
   "outputs": [],
   "source": [
    "aux_t = []\n",
    "for inn in ganancias_totales:\n",
    "    maximo = ganancias_totales[inn]\n",
    "    for jnn in ganancias_totales:\n",
    "        if jnn != ganancias_totales[jnn]:\n",
    "            if ganancias_totales[jnn] > maximo:\n",
    "                maximo = ganancias_totales[jnn]\n",
    "                aux_t.append(maximo)\n",
    "print (maximo)\n",
    "print(aux_t)\n",
    "\n"
   ]
  },
  {
   "cell_type": "code",
   "execution_count": null,
   "metadata": {},
   "outputs": [],
   "source": []
  },
  {
   "cell_type": "code",
   "execution_count": null,
   "metadata": {},
   "outputs": [],
   "source": []
  },
  {
   "cell_type": "code",
   "execution_count": null,
   "metadata": {},
   "outputs": [],
   "source": []
  },
  {
   "cell_type": "code",
   "execution_count": 65,
   "metadata": {},
   "outputs": [],
   "source": [
    "#######################ARBOL\n",
    "class Arbol:\n",
    "    def __init__(self, elemento):\n",
    "        self.hijos = []\n",
    "        self.elemento = elemento\n",
    "        \n",
    "def agregarElemento(arbol, elemento, elementoPadre):\n",
    "    subarbol = buscarSubarbol(arbol, elementoPadre);\n",
    "    subarbol.hijos.append(Arbol(elemento))\n",
    "\n",
    "def buscarSubarbol(arbol, elemento):\n",
    "    if arbol.elemento == elemento:\n",
    "        return arbol\n",
    "    for subarbol in arbol.hijos:\n",
    "        arbolBuscado = buscarSubarbol(subarbol, elemento)\n",
    "        if (arbolBuscado != None):\n",
    "            return arbolBuscado\n",
    "    return None\n",
    "def ejecutarProfundidadPrimero(arbol):\n",
    "    print (arbol.elemento)\n",
    "    for hijo in arbol.hijos:\n",
    "        \n",
    "        ejecutarProfundidadPrimero(hijo)"
   ]
  },
  {
   "cell_type": "code",
   "execution_count": 66,
   "metadata": {},
   "outputs": [],
   "source": [
    "abuela = \"Jacqueline Gurney\"\n",
    "marge = \"Marge Bouvier\"\n",
    "patty = \"Patty Bouvier\"\n",
    "selma = \"Selma Bouvier\"\n",
    "bart = \"Bart Simpson\"\n",
    "lisa = \"Lisa Simpson\"\n",
    "maggie = \"Maggie Simpson\"\n",
    "ling = \"Ling Bouvier\"\n",
    "\n",
    "arbol = Arbol(abuela)\n",
    "agregarElemento(arbol, patty, abuela)\n",
    "agregarElemento(arbol, selma, abuela)\n",
    "agregarElemento(arbol, ling, selma)\n",
    "agregarElemento(arbol, marge, abuela)\n",
    "agregarElemento(arbol, bart, marge)\n",
    "agregarElemento(arbol, lisa, marge)\n",
    "agregarElemento(arbol, maggie, marge)"
   ]
  },
  {
   "cell_type": "code",
   "execution_count": 28,
   "metadata": {},
   "outputs": [
    {
     "name": "stdout",
     "output_type": "stream",
     "text": [
      "Jacqueline Gurney\n",
      "Patty Bouvier\n",
      "Selma Bouvier\n",
      "Ling Bouvier\n",
      "Marge Bouvier\n",
      "Bart Simpson\n",
      "Lisa Simpson\n",
      "Maggie Simpson\n"
     ]
    }
   ],
   "source": [
    "ejecutarProfundidadPrimero(arbol)"
   ]
  },
  {
   "cell_type": "code",
   "execution_count": null,
   "metadata": {},
   "outputs": [],
   "source": [
    "\n"
   ]
  },
  {
   "cell_type": "code",
   "execution_count": null,
   "metadata": {},
   "outputs": [],
   "source": []
  },
  {
   "cell_type": "code",
   "execution_count": null,
   "metadata": {},
   "outputs": [],
   "source": []
  }
 ],
 "metadata": {
  "kernelspec": {
   "display_name": "Python 3",
   "language": "python",
   "name": "python3"
  },
  "language_info": {
   "codemirror_mode": {
    "name": "ipython",
    "version": 3
   },
   "file_extension": ".py",
   "mimetype": "text/x-python",
   "name": "python",
   "nbconvert_exporter": "python",
   "pygments_lexer": "ipython3",
   "version": "3.7.4"
  }
 },
 "nbformat": 4,
 "nbformat_minor": 2
}
