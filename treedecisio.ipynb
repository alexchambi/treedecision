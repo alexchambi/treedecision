{
 "cells": [
  {
   "cell_type": "code",
   "execution_count": 44,
   "metadata": {},
   "outputs": [],
   "source": [
    "import pandas as pd\n",
    "import numpy as np\n",
    "import math\n",
    "from math import log\n",
    "import pprint"
   ]
  },
  {
   "cell_type": "code",
   "execution_count": 2,
   "metadata": {},
   "outputs": [],
   "source": [
    "dataset = pd.read_csv('weather.csv')\n",
    "df = pd.read_csv('weather.csv')\n",
    "salida = \"play\""
   ]
  },
  {
   "cell_type": "code",
   "execution_count": 10,
   "metadata": {},
   "outputs": [
    {
     "data": {
      "text/html": [
       "<div>\n",
       "<style scoped>\n",
       "    .dataframe tbody tr th:only-of-type {\n",
       "        vertical-align: middle;\n",
       "    }\n",
       "\n",
       "    .dataframe tbody tr th {\n",
       "        vertical-align: top;\n",
       "    }\n",
       "\n",
       "    .dataframe thead th {\n",
       "        text-align: right;\n",
       "    }\n",
       "</style>\n",
       "<table border=\"1\" class=\"dataframe\">\n",
       "  <thead>\n",
       "    <tr style=\"text-align: right;\">\n",
       "      <th></th>\n",
       "      <th>outlook</th>\n",
       "      <th>temperature</th>\n",
       "      <th>humidity</th>\n",
       "      <th>windy</th>\n",
       "      <th>play</th>\n",
       "    </tr>\n",
       "  </thead>\n",
       "  <tbody>\n",
       "    <tr>\n",
       "      <td>0</td>\n",
       "      <td>overcast</td>\n",
       "      <td>hot</td>\n",
       "      <td>high</td>\n",
       "      <td>False</td>\n",
       "      <td>yes</td>\n",
       "    </tr>\n",
       "    <tr>\n",
       "      <td>1</td>\n",
       "      <td>overcast</td>\n",
       "      <td>cool</td>\n",
       "      <td>normal</td>\n",
       "      <td>True</td>\n",
       "      <td>yes</td>\n",
       "    </tr>\n",
       "    <tr>\n",
       "      <td>2</td>\n",
       "      <td>overcast</td>\n",
       "      <td>mild</td>\n",
       "      <td>high</td>\n",
       "      <td>True</td>\n",
       "      <td>yes</td>\n",
       "    </tr>\n",
       "    <tr>\n",
       "      <td>3</td>\n",
       "      <td>overcast</td>\n",
       "      <td>hot</td>\n",
       "      <td>normal</td>\n",
       "      <td>False</td>\n",
       "      <td>yes</td>\n",
       "    </tr>\n",
       "    <tr>\n",
       "      <td>4</td>\n",
       "      <td>rainy</td>\n",
       "      <td>mild</td>\n",
       "      <td>high</td>\n",
       "      <td>False</td>\n",
       "      <td>yes</td>\n",
       "    </tr>\n",
       "    <tr>\n",
       "      <td>5</td>\n",
       "      <td>rainy</td>\n",
       "      <td>cool</td>\n",
       "      <td>normal</td>\n",
       "      <td>False</td>\n",
       "      <td>yes</td>\n",
       "    </tr>\n",
       "    <tr>\n",
       "      <td>6</td>\n",
       "      <td>rainy</td>\n",
       "      <td>cool</td>\n",
       "      <td>normal</td>\n",
       "      <td>True</td>\n",
       "      <td>no</td>\n",
       "    </tr>\n",
       "    <tr>\n",
       "      <td>7</td>\n",
       "      <td>rainy</td>\n",
       "      <td>mild</td>\n",
       "      <td>normal</td>\n",
       "      <td>False</td>\n",
       "      <td>yes</td>\n",
       "    </tr>\n",
       "    <tr>\n",
       "      <td>8</td>\n",
       "      <td>rainy</td>\n",
       "      <td>mild</td>\n",
       "      <td>high</td>\n",
       "      <td>True</td>\n",
       "      <td>no</td>\n",
       "    </tr>\n",
       "    <tr>\n",
       "      <td>9</td>\n",
       "      <td>sunny</td>\n",
       "      <td>hot</td>\n",
       "      <td>high</td>\n",
       "      <td>False</td>\n",
       "      <td>no</td>\n",
       "    </tr>\n",
       "    <tr>\n",
       "      <td>10</td>\n",
       "      <td>sunny</td>\n",
       "      <td>hot</td>\n",
       "      <td>high</td>\n",
       "      <td>True</td>\n",
       "      <td>no</td>\n",
       "    </tr>\n",
       "    <tr>\n",
       "      <td>11</td>\n",
       "      <td>sunny</td>\n",
       "      <td>mild</td>\n",
       "      <td>high</td>\n",
       "      <td>False</td>\n",
       "      <td>no</td>\n",
       "    </tr>\n",
       "    <tr>\n",
       "      <td>12</td>\n",
       "      <td>sunny</td>\n",
       "      <td>cool</td>\n",
       "      <td>normal</td>\n",
       "      <td>False</td>\n",
       "      <td>yes</td>\n",
       "    </tr>\n",
       "  </tbody>\n",
       "</table>\n",
       "</div>"
      ],
      "text/plain": [
       "     outlook temperature humidity  windy play\n",
       "0   overcast         hot     high  False  yes\n",
       "1   overcast        cool   normal   True  yes\n",
       "2   overcast        mild     high   True  yes\n",
       "3   overcast         hot   normal  False  yes\n",
       "4      rainy        mild     high  False  yes\n",
       "5      rainy        cool   normal  False  yes\n",
       "6      rainy        cool   normal   True   no\n",
       "7      rainy        mild   normal  False  yes\n",
       "8      rainy        mild     high   True   no\n",
       "9      sunny         hot     high  False   no\n",
       "10     sunny         hot     high   True   no\n",
       "11     sunny        mild     high  False   no\n",
       "12     sunny        cool   normal  False  yes"
      ]
     },
     "execution_count": 10,
     "metadata": {},
     "output_type": "execute_result"
    }
   ],
   "source": [
    "dataset.head(13)"
   ]
  },
  {
   "cell_type": "code",
   "execution_count": 11,
   "metadata": {},
   "outputs": [
    {
     "name": "stdout",
     "output_type": "stream",
     "text": [
      "['outlook']\n",
      "['outlook', 'temperature']\n",
      "['outlook', 'temperature', 'humidity']\n",
      "['outlook', 'temperature', 'humidity', 'windy']\n",
      "['outlook', 'temperature', 'humidity', 'windy', 'play']\n",
      "['outlook', 'temperature', 'humidity', 'windy', 'play']\n"
     ]
    }
   ],
   "source": [
    "#columnas\n",
    "\n",
    "columnas = []\n",
    "for i in dataset:\n",
    "    columnas.append(i)\n",
    "    print(columnas)\n",
    "columnas\n",
    "print(columnas)"
   ]
  },
  {
   "cell_type": "code",
   "execution_count": 50,
   "metadata": {},
   "outputs": [
    {
     "name": "stdout",
     "output_type": "stream",
     "text": [
      "['yes' 'no']\n",
      "9\n",
      "5\n",
      "Entropia Play: 0.9402859586706309\n"
     ]
    }
   ],
   "source": [
    "# entropia de PLAY\n",
    "\n",
    "eps = np.finfo(float).eps\n",
    "\n",
    "\n",
    "dataset = pd.read_csv(\"weather.csv\")\n",
    "entropia_play = 0\n",
    "\n",
    "valores = dataset.play.unique()\n",
    "print(valores)\n",
    "\n",
    "for valor in valores:\n",
    "    print(dataset.play.value_counts()[valor])\n",
    "    \n",
    "    fraccion = dataset.play.value_counts()[valor]/len(dataset.play)  \n",
    "    entropia_play += -fraccion*np.log2(fraccion)\n",
    "\n",
    "print(\"Entropia Play:\", entropia_play)"
   ]
  },
  {
   "cell_type": "code",
   "execution_count": 52,
   "metadata": {},
   "outputs": [],
   "source": [
    "# Entropia para los demas atributos\n",
    "\n",
    "def entropia(dataset,atributos):\n",
    "    clases_variable = dataset.play.unique()\n",
    "    variables = dataset[atributos].unique()\n",
    "\n",
    "\n",
    "    entropia_atributo = 0\n",
    "    for variable in variables:\n",
    "        entropia_caracteristica = 0\n",
    "        for target_variable in clases_variable:\n",
    "            num = len(dataset[atributos][dataset[atributos]==variable][dataset.play ==target_variable])\n",
    "\n",
    "            den = len(dataset[atributos][dataset[atributos]==variable])\n",
    "            fraccion = num/(den+eps)\n",
    "            entropia_caracteristica += -fraccion*log(fraccion+eps)\n",
    "        fraccion2 = den/len(dataset)\n",
    "        entropia_atributo += -fraccion2*entropia_caracteristica\n",
    "\n",
    "    return(abs(entropia_atributo))"
   ]
  },
  {
   "cell_type": "code",
   "execution_count": 54,
   "metadata": {},
   "outputs": [
    {
     "name": "stdout",
     "output_type": "stream",
     "text": [
      "{'outlook': 0.48072261929232574, 'temperature': 0.6315010221774202, 'humidity': 0.54651221149444, 'windy': 0.618397445736438}\n"
     ]
    }
   ],
   "source": [
    "entropia_atributos = {k:entropia(dataset,k) for k in dataset.keys()[:-1]}\n",
    "entropia_atributos\n",
    "\n",
    "print(entropia_atributos)"
   ]
  },
  {
   "cell_type": "code",
   "execution_count": 55,
   "metadata": {},
   "outputs": [],
   "source": [
    "#Info Gain\n",
    "\n",
    "def infogain(dataset_entropia,entropia_atributo):\n",
    "    return(dataset_entropia-entropia_atributo)\n"
   ]
  },
  {
   "cell_type": "code",
   "execution_count": 56,
   "metadata": {},
   "outputs": [],
   "source": [
    "IG = {k:infogain(entropia_play,entropia_atributos[k]) for k in entropia_atributos}\n"
   ]
  },
  {
   "cell_type": "code",
   "execution_count": 40,
   "metadata": {},
   "outputs": [
    {
     "name": "stdout",
     "output_type": "stream",
     "text": [
      "{'outlook': 0.4595633393783052, 'temperature': 0.3087849364932107, 'humidity': 0.39377374717619096, 'windy': 0.32188851293419296}\n"
     ]
    }
   ],
   "source": [
    "print(IG)"
   ]
  },
  {
   "cell_type": "code",
   "execution_count": 57,
   "metadata": {},
   "outputs": [],
   "source": [
    "# Entropia nuev\n",
    "\n",
    "def encontrar_entropia(dataset):\n",
    "    Class = dataset.keys()[-1] \n",
    "    entropy = 0\n",
    "    valores = dataset[Class].unique()\n",
    "    for valor in valores:\n",
    "        fraccion = dataset[Class].value_counts()[valor]/len(dataset[Class])\n",
    "        entropy += -fraccion*np.log2(fraccion)\n",
    "    return entropy"
   ]
  },
  {
   "cell_type": "code",
   "execution_count": 67,
   "metadata": {},
   "outputs": [],
   "source": [
    "# recursividad ->\n",
    "\n",
    "def encontrar_entropia_atributos(dataset,atributos):\n",
    "    \n",
    "    Class = dataset.keys()[-1]   \n",
    "    clases_variable = dataset[Class].unique()  \n",
    "    variables = dataset[atributos].unique()\n",
    "    entropy2 = 0\n",
    "    for variable in variables:\n",
    "        entropy = 0\n",
    "        for target_variable in clases_variable:\n",
    "            num = len(dataset[atributos][dataset[atributos]==variable][dataset[Class] ==target_variable])\n",
    "            den = len(dataset[atributos][dataset[atributos]==variable])\n",
    "            fraccion = num/(den+eps)\n",
    "            entropy += -fraccion*log(fraccion+eps)\n",
    "            print(entropy)\n",
    "        fraccion2 = den/len(dataset)\n",
    "        entropy2 += -fraccion2*entropy\n",
    "    return abs(entropy2)\n",
    "\n",
    "\n",
    "def encontrar_mejor(dataset):\n",
    "    Entropy_att = []\n",
    "    IG = []\n",
    "    for key in dataset.keys()[:-1]:\n",
    "        \n",
    "        IG.append(encontrar_entropia(dataset)-encontrar_entropia_atributos(dataset,key))\n",
    "    return dataset.keys()[:-1][np.argmax(IG)]\n",
    "  \n",
    "def nueva_tabla(dataset, nodo,valor):\n",
    "    return dataset[dataset[nodo] == valor].reset_index(drop=True)\n",
    "\n",
    "\n",
    "def crearArbol(dataset,arbol=None): \n",
    "    Class = dataset.keys()[-1] \n",
    "    \n",
    "    nodo = encontrar_mejor(dataset)\n",
    "    \n",
    "    attValue = np.unique(dataset[nodo])\n",
    " \n",
    "    if arbol is None:                    \n",
    "        arbol={}\n",
    "        arbol[nodo] = {}\n",
    "    \n",
    "    for valor in attValue:\n",
    "        \n",
    "        subtable = nueva_tabla(dataset,nodo,valor)\n",
    "        clValue,counts = np.unique(subtable['play'],return_counts=True)                        \n",
    "        \n",
    "        if len(counts)==1:\n",
    "            arbol[nodo][valor] = clValue[0]                                                    \n",
    "        else:        \n",
    "            arbol[nodo][valor] = crearArbol(subtable)\n",
    "                   \n",
    "    return arbol\n"
   ]
  },
  {
   "cell_type": "code",
   "execution_count": 68,
   "metadata": {},
   "outputs": [
    {
     "name": "stdout",
     "output_type": "stream",
     "text": [
      "-2.2204460492503128e-16\n",
      "-2.2204460492503128e-16\n",
      "0.3064953742595942\n",
      "0.6730116670092561\n",
      "0.3665162927496618\n",
      "0.6730116670092561\n",
      "0.3465735902799724\n",
      "0.6931471805599448\n",
      "0.21576155433883548\n",
      "0.5623351446188078\n",
      "0.2703100720721094\n",
      "0.6365141682948123\n",
      "0.36312765445165845\n",
      "0.6829081047004713\n",
      "0.1321291541376498\n",
      "0.4101163182884086\n",
      "0.21576155433883548\n",
      "0.5623351446188078\n",
      "0.3465735902799724\n",
      "0.6931471805599448\n",
      "0.3064953742595942\n",
      "0.6730116670092561\n",
      "0.2703100720721094\n",
      "0.6365141682948123\n",
      "0.3465735902799724\n",
      "0.6931471805599448\n",
      "0.3465735902799724\n",
      "0.6931471805599448\n",
      "0.2703100720721094\n",
      "0.6365141682948123\n",
      "-2.2204460492503128e-16\n",
      "-2.2204460492503128e-16\n",
      "0.0\n",
      "-2.2204460492503128e-16\n",
      "0.3064953742595942\n",
      "0.6730116670092561\n",
      "-2.2204460492503128e-16\n",
      "-2.2204460492503128e-16\n",
      "0.3465735902799724\n",
      "0.6931471805599448\n",
      "0.0\n",
      "0.0\n",
      "-2.2204460492503128e-16\n",
      "-2.2204460492503128e-16\n",
      "0.0\n",
      "-2.2204460492503128e-16\n",
      "0.2703100720721094\n",
      "0.6365141682948123\n",
      "0.3465735902799724\n",
      "0.6931471805599448\n"
     ]
    }
   ],
   "source": [
    "arbolweather = crearArbol(dataset)"
   ]
  },
  {
   "cell_type": "code",
   "execution_count": 69,
   "metadata": {},
   "outputs": [
    {
     "name": "stdout",
     "output_type": "stream",
     "text": [
      "{'outlook': {'overcast': 'yes', 'rainy': {'windy': {False: 'yes', True: 'no'}}, 'sunny': {'humidity': {'high': 'no', 'normal': 'yes'}}}}\n"
     ]
    }
   ],
   "source": [
    "print(arbolweather)"
   ]
  },
  {
   "cell_type": "code",
   "execution_count": null,
   "metadata": {},
   "outputs": [],
   "source": []
  },
  {
   "cell_type": "code",
   "execution_count": null,
   "metadata": {},
   "outputs": [],
   "source": []
  }
 ],
 "metadata": {
  "kernelspec": {
   "display_name": "Python 3",
   "language": "python",
   "name": "python3"
  },
  "language_info": {
   "codemirror_mode": {
    "name": "ipython",
    "version": 3
   },
   "file_extension": ".py",
   "mimetype": "text/x-python",
   "name": "python",
   "nbconvert_exporter": "python",
   "pygments_lexer": "ipython3",
   "version": "3.7.4"
  }
 },
 "nbformat": 4,
 "nbformat_minor": 2
}
